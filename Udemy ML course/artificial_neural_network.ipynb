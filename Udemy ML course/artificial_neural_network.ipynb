{
 "cells": [
  {
   "cell_type": "markdown",
   "metadata": {
    "colab_type": "text",
    "id": "lP6JLo1tGNBg"
   },
   "source": [
    "# Artificial Neural Network"
   ]
  },
  {
   "cell_type": "markdown",
   "metadata": {
    "colab_type": "text",
    "id": "gWZyYmS_UE_L"
   },
   "source": [
    "### Importing the libraries"
   ]
  },
  {
   "cell_type": "code",
   "execution_count": 1,
   "metadata": {
    "colab": {},
    "colab_type": "code",
    "id": "MxkJoQBkUIHC"
   },
   "outputs": [],
   "source": [
    "import numpy as np\n",
    "import pandas as pd\n",
    "import tensorflow as tf"
   ]
  },
  {
   "cell_type": "code",
   "execution_count": 2,
   "metadata": {},
   "outputs": [
    {
     "data": {
      "text/plain": [
       "'2.3.1'"
      ]
     },
     "execution_count": 2,
     "metadata": {},
     "output_type": "execute_result"
    }
   ],
   "source": [
    "tf.__version__"
   ]
  },
  {
   "cell_type": "markdown",
   "metadata": {
    "colab_type": "text",
    "id": "1E0Q3aoKUCRX"
   },
   "source": [
    "## Part 1 - Data Preprocessing"
   ]
  },
  {
   "cell_type": "markdown",
   "metadata": {
    "colab_type": "text",
    "id": "cKWAkFVGUU0Z"
   },
   "source": [
    "### Importing the dataset"
   ]
  },
  {
   "cell_type": "code",
   "execution_count": 3,
   "metadata": {
    "colab": {},
    "colab_type": "code",
    "id": "MXUkhkMfU4wq"
   },
   "outputs": [],
   "source": [
    "dataset = pd.read_csv('train.csv')\n",
    "X = dataset.iloc[:, 1:-1].values\n",
    "y = dataset.iloc[:, 0].values"
   ]
  },
  {
   "cell_type": "markdown",
   "metadata": {},
   "source": [
    "### Taking care of missing data"
   ]
  },
  {
   "cell_type": "code",
   "execution_count": 4,
   "metadata": {},
   "outputs": [],
   "source": [
    "from sklearn.impute import SimpleImputer\n",
    "imputer = SimpleImputer(missing_values=np.nan, strategy='mean')\n",
    "imputer.fit(X)\n",
    "X = imputer.transform(X)"
   ]
  },
  {
   "cell_type": "markdown",
   "metadata": {
    "colab_type": "text",
    "id": "vHol938cW8zd"
   },
   "source": [
    "### Splitting the dataset into the Training set and Test set"
   ]
  },
  {
   "cell_type": "code",
   "execution_count": 5,
   "metadata": {
    "colab": {},
    "colab_type": "code",
    "id": "Z-TDt0Y_XEfc"
   },
   "outputs": [],
   "source": [
    "from sklearn.model_selection import train_test_split\n",
    "X_train, X_test, y_train, y_test = train_test_split(X, y, test_size = 0.2, random_state = 0)"
   ]
  },
  {
   "cell_type": "markdown",
   "metadata": {
    "colab_type": "text",
    "id": "RE_FcHyfV3TQ"
   },
   "source": [
    "### Feature Scaling"
   ]
  },
  {
   "cell_type": "code",
   "execution_count": 6,
   "metadata": {
    "colab": {},
    "colab_type": "code",
    "id": "ViCrE00rV8Sk"
   },
   "outputs": [],
   "source": [
    "from sklearn.preprocessing import StandardScaler\n",
    "sc = StandardScaler()\n",
    "X_train = sc.fit_transform(X_train)\n",
    "X_test = sc.transform(X_test)"
   ]
  },
  {
   "cell_type": "markdown",
   "metadata": {
    "colab_type": "text",
    "id": "-zfEzkRVXIwF"
   },
   "source": [
    "## Part 2 - Building the ANN"
   ]
  },
  {
   "cell_type": "markdown",
   "metadata": {
    "colab_type": "text",
    "id": "KvdeScabXtlB"
   },
   "source": [
    "### Initializing the ANN"
   ]
  },
  {
   "cell_type": "code",
   "execution_count": 7,
   "metadata": {
    "colab": {},
    "colab_type": "code",
    "id": "3dtrScHxXQox"
   },
   "outputs": [],
   "source": [
    "ann = tf.keras.models.Sequential()"
   ]
  },
  {
   "cell_type": "markdown",
   "metadata": {
    "colab_type": "text",
    "id": "rP6urV6SX7kS"
   },
   "source": [
    "### Adding the input layer and the first hidden layer"
   ]
  },
  {
   "cell_type": "code",
   "execution_count": 8,
   "metadata": {
    "colab": {},
    "colab_type": "code",
    "id": "bppGycBXYCQr"
   },
   "outputs": [],
   "source": [
    "ann.add(tf.keras.layers.Dense(units=7, activation='relu'))"
   ]
  },
  {
   "cell_type": "markdown",
   "metadata": {
    "colab_type": "text",
    "id": "BELWAc_8YJze"
   },
   "source": [
    "### Adding the second hidden layer"
   ]
  },
  {
   "cell_type": "code",
   "execution_count": 9,
   "metadata": {
    "colab": {},
    "colab_type": "code",
    "id": "JneR0u0sYRTd"
   },
   "outputs": [],
   "source": [
    "ann.add(tf.keras.layers.Dense(units=2, activation='relu'))"
   ]
  },
  {
   "cell_type": "markdown",
   "metadata": {
    "colab_type": "text",
    "id": "OyNEe6RXYcU4"
   },
   "source": [
    "### Adding the output layer"
   ]
  },
  {
   "cell_type": "code",
   "execution_count": 10,
   "metadata": {
    "colab": {},
    "colab_type": "code",
    "id": "Cn3x41RBYfvY"
   },
   "outputs": [],
   "source": [
    "ann.add(tf.keras.layers.Dense(units=1, activation='sigmoid'))"
   ]
  },
  {
   "cell_type": "markdown",
   "metadata": {
    "colab_type": "text",
    "id": "JT4u2S1_Y4WG"
   },
   "source": [
    "## Part 3 - Training the ANN"
   ]
  },
  {
   "cell_type": "markdown",
   "metadata": {
    "colab_type": "text",
    "id": "8GWlJChhY_ZI"
   },
   "source": [
    "### Compiling the ANN"
   ]
  },
  {
   "cell_type": "code",
   "execution_count": 11,
   "metadata": {
    "colab": {},
    "colab_type": "code",
    "id": "fG3RrwDXZEaS"
   },
   "outputs": [],
   "source": [
    "ann.compile(optimizer = 'adam', loss = 'binary_crossentropy', metrics = ['accuracy'])\n",
    "#SGD\n",
    "#RMSprop\n",
    "#Adam\n",
    "#Adadelta\n",
    "#Adagrad\n",
    "#Adamax\n",
    "#Nadam\n",
    "#Ftrl"
   ]
  },
  {
   "cell_type": "markdown",
   "metadata": {
    "colab_type": "text",
    "id": "0QR_G5u7ZLSM"
   },
   "source": [
    "### Training the ANN on the Training set"
   ]
  },
  {
   "cell_type": "code",
   "execution_count": null,
   "metadata": {
    "colab": {
     "base_uri": "https://localhost:8080/",
     "height": 1000
    },
    "colab_type": "code",
    "executionInfo": {
     "elapsed": 33685,
     "status": "ok",
     "timestamp": 1590257481284,
     "user": {
      "displayName": "Hadelin de Ponteves",
      "photoUrl": "https://lh3.googleusercontent.com/a-/AOh14GhEuXdT7eQweUmRPW8_laJuPggSK6hfvpl5a6WBaA=s64",
      "userId": "15047218817161520419"
     },
     "user_tz": -240
    },
    "id": "nHZ-LKv_ZRb3",
    "outputId": "718cc4b0-b5aa-40f0-9b20-d3d31730a531"
   },
   "outputs": [
    {
     "name": "stdout",
     "output_type": "stream",
     "text": [
      "Epoch 1/500\n",
      "23/23 [==============================] - 0s 864us/step - loss: 0.7862 - accuracy: 0.3399\n",
      "Epoch 2/500\n",
      "23/23 [==============================] - 0s 829us/step - loss: 0.7506 - accuracy: 0.3202\n",
      "Epoch 3/500\n",
      "23/23 [==============================] - 0s 783us/step - loss: 0.7240 - accuracy: 0.3469\n",
      "Epoch 4/500\n",
      "23/23 [==============================] - 0s 805us/step - loss: 0.7056 - accuracy: 0.4101\n",
      "Epoch 5/500\n",
      "23/23 [==============================] - 0s 1ms/step - loss: 0.6943 - accuracy: 0.5885\n",
      "Epoch 6/500\n",
      "23/23 [==============================] - 0s 764us/step - loss: 0.6893 - accuracy: 0.6011\n",
      "Epoch 7/500\n",
      "23/23 [==============================] - 0s 853us/step - loss: 0.6862 - accuracy: 0.6053\n",
      "Epoch 8/500\n",
      "23/23 [==============================] - 0s 885us/step - loss: 0.6831 - accuracy: 0.6096\n",
      "Epoch 9/500\n",
      "23/23 [==============================] - 0s 849us/step - loss: 0.6806 - accuracy: 0.6110\n",
      "Epoch 10/500\n",
      "23/23 [==============================] - 0s 992us/step - loss: 0.6782 - accuracy: 0.6110\n",
      "Epoch 11/500\n",
      "23/23 [==============================] - 0s 809us/step - loss: 0.6758 - accuracy: 0.6138\n",
      "Epoch 12/500\n",
      "23/23 [==============================] - 0s 872us/step - loss: 0.6733 - accuracy: 0.6166\n",
      "Epoch 13/500\n",
      "23/23 [==============================] - 0s 887us/step - loss: 0.6705 - accuracy: 0.6194\n",
      "Epoch 14/500\n",
      "23/23 [==============================] - 0s 857us/step - loss: 0.6675 - accuracy: 0.6194\n",
      "Epoch 15/500\n",
      "23/23 [==============================] - 0s 977us/step - loss: 0.6640 - accuracy: 0.6264\n",
      "Epoch 16/500\n",
      "23/23 [==============================] - 0s 811us/step - loss: 0.6597 - accuracy: 0.6376\n",
      "Epoch 17/500\n",
      "23/23 [==============================] - 0s 894us/step - loss: 0.6542 - accuracy: 0.6615\n",
      "Epoch 18/500\n",
      "23/23 [==============================] - 0s 889us/step - loss: 0.6477 - accuracy: 0.7247\n",
      "Epoch 19/500\n",
      "23/23 [==============================] - 0s 804us/step - loss: 0.6390 - accuracy: 0.7542\n",
      "Epoch 20/500\n",
      "23/23 [==============================] - 0s 909us/step - loss: 0.6291 - accuracy: 0.7767\n",
      "Epoch 21/500\n",
      "23/23 [==============================] - 0s 872us/step - loss: 0.6183 - accuracy: 0.7907\n",
      "Epoch 22/500\n",
      "23/23 [==============================] - 0s 870us/step - loss: 0.6066 - accuracy: 0.8006\n",
      "Epoch 23/500\n",
      "23/23 [==============================] - 0s 893us/step - loss: 0.5954 - accuracy: 0.8034\n",
      "Epoch 24/500\n",
      "23/23 [==============================] - 0s 781us/step - loss: 0.5849 - accuracy: 0.8048\n",
      "Epoch 25/500\n",
      "23/23 [==============================] - 0s 1ms/step - loss: 0.5749 - accuracy: 0.8104\n",
      "Epoch 26/500\n",
      "23/23 [==============================] - 0s 835us/step - loss: 0.5663 - accuracy: 0.8132\n",
      "Epoch 27/500\n",
      "23/23 [==============================] - 0s 839us/step - loss: 0.5584 - accuracy: 0.8146\n",
      "Epoch 28/500\n",
      "23/23 [==============================] - 0s 974us/step - loss: 0.5511 - accuracy: 0.8160\n",
      "Epoch 29/500\n",
      "23/23 [==============================] - 0s 874us/step - loss: 0.5447 - accuracy: 0.8160\n",
      "Epoch 30/500\n",
      "23/23 [==============================] - 0s 908us/step - loss: 0.5390 - accuracy: 0.8160\n",
      "Epoch 31/500\n",
      "23/23 [==============================] - 0s 802us/step - loss: 0.5336 - accuracy: 0.8160\n",
      "Epoch 32/500\n",
      "23/23 [==============================] - 0s 921us/step - loss: 0.5288 - accuracy: 0.8160\n",
      "Epoch 33/500\n",
      "23/23 [==============================] - 0s 928us/step - loss: 0.5239 - accuracy: 0.8174\n",
      "Epoch 34/500\n",
      "23/23 [==============================] - 0s 977us/step - loss: 0.5193 - accuracy: 0.8174\n",
      "Epoch 35/500\n",
      "23/23 [==============================] - 0s 933us/step - loss: 0.5151 - accuracy: 0.8202\n",
      "Epoch 36/500\n",
      "23/23 [==============================] - 0s 912us/step - loss: 0.5113 - accuracy: 0.8202\n",
      "Epoch 37/500\n",
      "23/23 [==============================] - 0s 927us/step - loss: 0.5077 - accuracy: 0.8202\n",
      "Epoch 38/500\n",
      "23/23 [==============================] - 0s 858us/step - loss: 0.5042 - accuracy: 0.8202\n",
      "Epoch 39/500\n",
      "23/23 [==============================] - 0s 972us/step - loss: 0.5004 - accuracy: 0.8216\n",
      "Epoch 40/500\n",
      "23/23 [==============================] - 0s 935us/step - loss: 0.4972 - accuracy: 0.8216\n",
      "Epoch 41/500\n",
      "23/23 [==============================] - 0s 952us/step - loss: 0.4942 - accuracy: 0.8244\n",
      "Epoch 42/500\n",
      "23/23 [==============================] - 0s 906us/step - loss: 0.4911 - accuracy: 0.8244\n",
      "Epoch 43/500\n",
      "23/23 [==============================] - 0s 1ms/step - loss: 0.4880 - accuracy: 0.8216\n",
      "Epoch 44/500\n",
      "23/23 [==============================] - 0s 972us/step - loss: 0.4855 - accuracy: 0.8216\n",
      "Epoch 45/500\n",
      "23/23 [==============================] - 0s 1ms/step - loss: 0.4826 - accuracy: 0.8230\n",
      "Epoch 46/500\n",
      "23/23 [==============================] - 0s 1ms/step - loss: 0.4799 - accuracy: 0.8244\n",
      "Epoch 47/500\n",
      "23/23 [==============================] - 0s 1ms/step - loss: 0.4772 - accuracy: 0.8258\n",
      "Epoch 48/500\n",
      "23/23 [==============================] - 0s 970us/step - loss: 0.4750 - accuracy: 0.8272\n",
      "Epoch 49/500\n",
      "23/23 [==============================] - 0s 872us/step - loss: 0.4726 - accuracy: 0.8287\n",
      "Epoch 50/500\n",
      "23/23 [==============================] - 0s 912us/step - loss: 0.4705 - accuracy: 0.8287\n",
      "Epoch 51/500\n",
      "23/23 [==============================] - 0s 898us/step - loss: 0.4684 - accuracy: 0.8287\n",
      "Epoch 52/500\n",
      "23/23 [==============================] - 0s 888us/step - loss: 0.4662 - accuracy: 0.8258\n",
      "Epoch 53/500\n",
      "23/23 [==============================] - 0s 928us/step - loss: 0.4643 - accuracy: 0.8301\n",
      "Epoch 54/500\n",
      "23/23 [==============================] - 0s 847us/step - loss: 0.4623 - accuracy: 0.8315\n",
      "Epoch 55/500\n",
      "23/23 [==============================] - 0s 965us/step - loss: 0.4606 - accuracy: 0.8329\n",
      "Epoch 56/500\n",
      "23/23 [==============================] - 0s 806us/step - loss: 0.4587 - accuracy: 0.8329\n",
      "Epoch 57/500\n",
      "23/23 [==============================] - 0s 850us/step - loss: 0.4572 - accuracy: 0.8329\n",
      "Epoch 58/500\n",
      "23/23 [==============================] - 0s 767us/step - loss: 0.4553 - accuracy: 0.8329\n",
      "Epoch 59/500\n",
      "23/23 [==============================] - 0s 783us/step - loss: 0.4540 - accuracy: 0.8329\n",
      "Epoch 60/500\n",
      "23/23 [==============================] - 0s 836us/step - loss: 0.4524 - accuracy: 0.8343\n",
      "Epoch 61/500\n",
      "23/23 [==============================] - 0s 845us/step - loss: 0.4510 - accuracy: 0.8343\n",
      "Epoch 62/500\n",
      "23/23 [==============================] - 0s 853us/step - loss: 0.4497 - accuracy: 0.8343\n",
      "Epoch 63/500\n",
      "23/23 [==============================] - 0s 878us/step - loss: 0.4482 - accuracy: 0.8343\n",
      "Epoch 64/500\n",
      "23/23 [==============================] - 0s 902us/step - loss: 0.4469 - accuracy: 0.8357\n",
      "Epoch 65/500\n",
      "23/23 [==============================] - 0s 821us/step - loss: 0.4457 - accuracy: 0.8357\n",
      "Epoch 66/500\n",
      "23/23 [==============================] - 0s 903us/step - loss: 0.4445 - accuracy: 0.8371\n",
      "Epoch 67/500\n",
      "23/23 [==============================] - 0s 839us/step - loss: 0.4433 - accuracy: 0.8329\n",
      "Epoch 68/500\n",
      "23/23 [==============================] - 0s 794us/step - loss: 0.4423 - accuracy: 0.8357\n",
      "Epoch 69/500\n",
      "23/23 [==============================] - 0s 862us/step - loss: 0.4416 - accuracy: 0.8343\n",
      "Epoch 70/500\n",
      "23/23 [==============================] - 0s 852us/step - loss: 0.4405 - accuracy: 0.8315\n",
      "Epoch 71/500\n",
      "23/23 [==============================] - 0s 922us/step - loss: 0.4395 - accuracy: 0.8357\n",
      "Epoch 72/500\n",
      "23/23 [==============================] - 0s 883us/step - loss: 0.4385 - accuracy: 0.8357\n",
      "Epoch 73/500\n",
      "23/23 [==============================] - 0s 845us/step - loss: 0.4373 - accuracy: 0.8357\n",
      "Epoch 74/500\n",
      "23/23 [==============================] - 0s 872us/step - loss: 0.4364 - accuracy: 0.8343\n",
      "Epoch 75/500\n",
      "23/23 [==============================] - 0s 811us/step - loss: 0.4355 - accuracy: 0.8329\n",
      "Epoch 76/500\n",
      "23/23 [==============================] - 0s 788us/step - loss: 0.4345 - accuracy: 0.8329\n",
      "Epoch 77/500\n",
      "23/23 [==============================] - 0s 770us/step - loss: 0.4338 - accuracy: 0.8329\n",
      "Epoch 78/500\n",
      "23/23 [==============================] - 0s 854us/step - loss: 0.4329 - accuracy: 0.8329\n",
      "Epoch 79/500\n",
      "23/23 [==============================] - 0s 829us/step - loss: 0.4322 - accuracy: 0.8371\n",
      "Epoch 80/500\n",
      "23/23 [==============================] - 0s 794us/step - loss: 0.4313 - accuracy: 0.8371\n",
      "Epoch 81/500\n"
     ]
    },
    {
     "name": "stdout",
     "output_type": "stream",
     "text": [
      "23/23 [==============================] - 0s 799us/step - loss: 0.4310 - accuracy: 0.8357\n",
      "Epoch 82/500\n",
      "23/23 [==============================] - 0s 932us/step - loss: 0.4301 - accuracy: 0.8357\n",
      "Epoch 83/500\n",
      "23/23 [==============================] - 0s 806us/step - loss: 0.4294 - accuracy: 0.8357\n",
      "Epoch 84/500\n",
      "23/23 [==============================] - 0s 872us/step - loss: 0.4288 - accuracy: 0.8357\n",
      "Epoch 85/500\n",
      "23/23 [==============================] - 0s 822us/step - loss: 0.4279 - accuracy: 0.8357\n",
      "Epoch 86/500\n",
      "23/23 [==============================] - 0s 755us/step - loss: 0.4273 - accuracy: 0.8371\n",
      "Epoch 87/500\n",
      "23/23 [==============================] - 0s 833us/step - loss: 0.4269 - accuracy: 0.8371\n",
      "Epoch 88/500\n",
      "23/23 [==============================] - 0s 744us/step - loss: 0.4265 - accuracy: 0.8357\n",
      "Epoch 89/500\n",
      "23/23 [==============================] - 0s 766us/step - loss: 0.4255 - accuracy: 0.8343\n",
      "Epoch 90/500\n",
      "23/23 [==============================] - 0s 791us/step - loss: 0.4247 - accuracy: 0.8371\n",
      "Epoch 91/500\n",
      "23/23 [==============================] - 0s 773us/step - loss: 0.4244 - accuracy: 0.8357\n",
      "Epoch 92/500\n",
      "23/23 [==============================] - 0s 707us/step - loss: 0.4238 - accuracy: 0.8371\n",
      "Epoch 93/500\n",
      "23/23 [==============================] - 0s 747us/step - loss: 0.4235 - accuracy: 0.8343\n",
      "Epoch 94/500\n",
      "23/23 [==============================] - 0s 869us/step - loss: 0.4229 - accuracy: 0.8357\n",
      "Epoch 95/500\n",
      "23/23 [==============================] - 0s 799us/step - loss: 0.4223 - accuracy: 0.8357\n",
      "Epoch 96/500\n",
      "23/23 [==============================] - 0s 799us/step - loss: 0.4216 - accuracy: 0.8371\n",
      "Epoch 97/500\n",
      "23/23 [==============================] - 0s 776us/step - loss: 0.4215 - accuracy: 0.8371\n",
      "Epoch 98/500\n",
      "23/23 [==============================] - 0s 798us/step - loss: 0.4210 - accuracy: 0.8385\n",
      "Epoch 99/500\n",
      "23/23 [==============================] - 0s 823us/step - loss: 0.4206 - accuracy: 0.8371\n",
      "Epoch 100/500\n",
      "23/23 [==============================] - 0s 801us/step - loss: 0.4201 - accuracy: 0.8357\n",
      "Epoch 101/500\n",
      "23/23 [==============================] - 0s 787us/step - loss: 0.4194 - accuracy: 0.8357\n",
      "Epoch 102/500\n",
      "23/23 [==============================] - 0s 785us/step - loss: 0.4190 - accuracy: 0.8357\n",
      "Epoch 103/500\n",
      "23/23 [==============================] - 0s 740us/step - loss: 0.4184 - accuracy: 0.8371\n",
      "Epoch 104/500\n",
      "23/23 [==============================] - 0s 795us/step - loss: 0.4183 - accuracy: 0.8357\n",
      "Epoch 105/500\n",
      "23/23 [==============================] - 0s 784us/step - loss: 0.4182 - accuracy: 0.8371\n",
      "Epoch 106/500\n",
      "23/23 [==============================] - 0s 732us/step - loss: 0.4174 - accuracy: 0.8385\n",
      "Epoch 107/500\n",
      "23/23 [==============================] - 0s 715us/step - loss: 0.4174 - accuracy: 0.8371\n",
      "Epoch 108/500\n",
      "23/23 [==============================] - 0s 705us/step - loss: 0.4174 - accuracy: 0.8357\n",
      "Epoch 109/500\n",
      "23/23 [==============================] - 0s 744us/step - loss: 0.4169 - accuracy: 0.8357\n",
      "Epoch 110/500\n",
      "23/23 [==============================] - 0s 863us/step - loss: 0.4159 - accuracy: 0.8371\n",
      "Epoch 111/500\n",
      "23/23 [==============================] - 0s 778us/step - loss: 0.4157 - accuracy: 0.8371\n",
      "Epoch 112/500\n",
      "23/23 [==============================] - 0s 845us/step - loss: 0.4155 - accuracy: 0.8371\n",
      "Epoch 113/500\n",
      "23/23 [==============================] - 0s 806us/step - loss: 0.4151 - accuracy: 0.8371\n",
      "Epoch 114/500\n",
      "23/23 [==============================] - 0s 825us/step - loss: 0.4148 - accuracy: 0.8371\n",
      "Epoch 115/500\n",
      "23/23 [==============================] - 0s 855us/step - loss: 0.4145 - accuracy: 0.8357\n",
      "Epoch 116/500\n",
      "23/23 [==============================] - 0s 866us/step - loss: 0.4143 - accuracy: 0.8371\n",
      "Epoch 117/500\n",
      "23/23 [==============================] - 0s 869us/step - loss: 0.4138 - accuracy: 0.8371\n",
      "Epoch 118/500\n",
      "23/23 [==============================] - 0s 901us/step - loss: 0.4137 - accuracy: 0.8371\n",
      "Epoch 119/500\n",
      "23/23 [==============================] - 0s 915us/step - loss: 0.4136 - accuracy: 0.8357\n",
      "Epoch 120/500\n",
      "23/23 [==============================] - 0s 870us/step - loss: 0.4131 - accuracy: 0.8371\n",
      "Epoch 121/500\n",
      "23/23 [==============================] - 0s 819us/step - loss: 0.4130 - accuracy: 0.8371\n",
      "Epoch 122/500\n",
      "23/23 [==============================] - 0s 861us/step - loss: 0.4125 - accuracy: 0.8371\n",
      "Epoch 123/500\n",
      "23/23 [==============================] - 0s 872us/step - loss: 0.4123 - accuracy: 0.8371\n",
      "Epoch 124/500\n",
      "23/23 [==============================] - 0s 807us/step - loss: 0.4122 - accuracy: 0.8371\n",
      "Epoch 125/500\n",
      "23/23 [==============================] - 0s 714us/step - loss: 0.4121 - accuracy: 0.8357\n",
      "Epoch 126/500\n",
      "23/23 [==============================] - 0s 727us/step - loss: 0.4121 - accuracy: 0.8357\n",
      "Epoch 127/500\n",
      "23/23 [==============================] - 0s 782us/step - loss: 0.4112 - accuracy: 0.8399\n",
      "Epoch 128/500\n",
      "23/23 [==============================] - 0s 696us/step - loss: 0.4116 - accuracy: 0.8399\n",
      "Epoch 129/500\n",
      "23/23 [==============================] - 0s 762us/step - loss: 0.4110 - accuracy: 0.8413\n",
      "Epoch 130/500\n",
      "23/23 [==============================] - 0s 785us/step - loss: 0.4108 - accuracy: 0.8399\n",
      "Epoch 131/500\n",
      "23/23 [==============================] - 0s 724us/step - loss: 0.4110 - accuracy: 0.8371\n",
      "Epoch 132/500\n",
      "23/23 [==============================] - 0s 776us/step - loss: 0.4103 - accuracy: 0.8385\n",
      "Epoch 133/500\n",
      "23/23 [==============================] - 0s 781us/step - loss: 0.4104 - accuracy: 0.8385\n",
      "Epoch 134/500\n",
      "23/23 [==============================] - 0s 823us/step - loss: 0.4102 - accuracy: 0.8385\n",
      "Epoch 135/500\n",
      "23/23 [==============================] - 0s 743us/step - loss: 0.4101 - accuracy: 0.8399\n",
      "Epoch 136/500\n",
      " 1/23 [>.............................] - ETA: 0s - loss: 0.2710 - accuracy: 0.9375"
     ]
    }
   ],
   "source": [
    "ann.fit(X_train, y_train, batch_size = 32, epochs = 500)"
   ]
  },
  {
   "cell_type": "markdown",
   "metadata": {
    "colab_type": "text",
    "id": "tJj5k2MxZga3"
   },
   "source": [
    "## Part 4 - Making the predictions and evaluating the model"
   ]
  },
  {
   "cell_type": "markdown",
   "metadata": {},
   "source": [
    "### Making a prediction on the test set"
   ]
  },
  {
   "cell_type": "code",
   "execution_count": null,
   "metadata": {},
   "outputs": [],
   "source": [
    "y_pred = ann.predict(X_test)\n",
    "y_pred = (y_pred > 0.5)"
   ]
  },
  {
   "cell_type": "markdown",
   "metadata": {
    "colab_type": "text",
    "id": "o0oyfLWoaEGw"
   },
   "source": [
    "### Making the Confusion Matrix"
   ]
  },
  {
   "cell_type": "code",
   "execution_count": null,
   "metadata": {
    "colab": {
     "base_uri": "https://localhost:8080/",
     "height": 68
    },
    "colab_type": "code",
    "executionInfo": {
     "elapsed": 33981,
     "status": "ok",
     "timestamp": 1590257481595,
     "user": {
      "displayName": "Hadelin de Ponteves",
      "photoUrl": "https://lh3.googleusercontent.com/a-/AOh14GhEuXdT7eQweUmRPW8_laJuPggSK6hfvpl5a6WBaA=s64",
      "userId": "15047218817161520419"
     },
     "user_tz": -240
    },
    "id": "ci6K_r6LaF6P",
    "outputId": "4d854e9e-22d5-432f-f6e5-a102fe3ae0bd"
   },
   "outputs": [],
   "source": [
    "from sklearn.metrics import confusion_matrix, accuracy_score\n",
    "cm = confusion_matrix(y_test, y_pred)\n",
    "print(cm)\n",
    "accuracy_score(y_test, y_pred)"
   ]
  },
  {
   "cell_type": "markdown",
   "metadata": {},
   "source": [
    "## Making competition prediction"
   ]
  },
  {
   "cell_type": "code",
   "execution_count": null,
   "metadata": {},
   "outputs": [],
   "source": [
    "# Import data\n",
    "dataset = pd.read_csv('test.csv')\n",
    "X_competition = dataset.iloc[:, 1:-1].values\n",
    "\n",
    "# Take care of missing data\n",
    "imputer_comp = SimpleImputer(missing_values=np.nan, strategy='mean')\n",
    "imputer_comp.fit(X_competition)\n",
    "X_competition = imputer.transform(X_competition)\n",
    "\n",
    "# Scale features\n",
    "X_competition = sc.fit_transform(X_competition)\n",
    "\n",
    "# Make prediction on competition test set using trained model\n",
    "y_pred = ann.predict(X_competition)\n",
    "y_pred = (y_pred > 0.5)\n",
    "y_competition = pd.DataFrame(y_pred)\n",
    "y_competition = y_competition*1 # Change booleans to 1 / 0\n",
    "\n",
    "# Concatenate prediction and passenger ID columns\n",
    "submission = pd.DataFrame(\n",
    "    pd.concat([dataset.iloc[:, 0],  y_competition.iloc[:, :]], axis=1))\n",
    "\n",
    "# Fix column headings\n",
    "submission.columns = ['PassengerID', 'Survived']\n",
    "\n",
    "# Write to file\n",
    "submission.to_csv('NeuralNet.csv', index=False)"
   ]
  },
  {
   "cell_type": "code",
   "execution_count": null,
   "metadata": {},
   "outputs": [],
   "source": []
  }
 ],
 "metadata": {
  "colab": {
   "authorship_tag": "ABX9TyMeRFWFoGrdaL5S3dx5MWmb",
   "collapsed_sections": [],
   "name": "artificial_neural_network.ipynb",
   "provenance": [],
   "toc_visible": true
  },
  "kernelspec": {
   "display_name": "Python 3",
   "language": "python",
   "name": "python3"
  },
  "language_info": {
   "codemirror_mode": {
    "name": "ipython",
    "version": 3
   },
   "file_extension": ".py",
   "mimetype": "text/x-python",
   "name": "python",
   "nbconvert_exporter": "python",
   "pygments_lexer": "ipython3",
   "version": "3.7.4"
  },
  "toc": {
   "base_numbering": 1,
   "nav_menu": {},
   "number_sections": true,
   "sideBar": true,
   "skip_h1_title": false,
   "title_cell": "Table of Contents",
   "title_sidebar": "Contents",
   "toc_cell": false,
   "toc_position": {},
   "toc_section_display": true,
   "toc_window_display": true
  }
 },
 "nbformat": 4,
 "nbformat_minor": 1
}
